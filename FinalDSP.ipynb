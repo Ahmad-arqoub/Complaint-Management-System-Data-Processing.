{
  "nbformat": 4,
  "nbformat_minor": 0,
  "metadata": {
    "colab": {
      "provenance": [],
      "collapsed_sections": [
        "5wPwiXIfoYE2",
        "YHCHYSwbox_W",
        "8NiD-fejpKPU",
        "U39BnO_zpqJC",
        "-Wf77UaHrt4O"
      ]
    },
    "kernelspec": {
      "name": "python3",
      "display_name": "Python 3"
    },
    "language_info": {
      "name": "python"
    }
  },
  "cells": [
    {
      "cell_type": "markdown",
      "source": [
        "# 1. **Importing Libraries**\n",
        "\n",
        "\n",
        "\n"
      ],
      "metadata": {
        "id": "5wPwiXIfoYE2"
      }
    },
    {
      "cell_type": "markdown",
      "source": [
        "To use functions i needed to import libraries that will help me do the project"
      ],
      "metadata": {
        "id": "9Zvrw2a1wTM0"
      }
    },
    {
      "cell_type": "code",
      "source": [
        "# Importing the whole library\n",
        "import pandas as pd\n",
        "import numpy as np\n",
        "import matplotlib.pyplot as plt\n",
        "from sklearn.model_selection import train_test_split\n",
        "from sklearn.neighbors import KNeighborsClassifier\n",
        "from sklearn.tree import DecisionTreeClassifier\n",
        "from sklearn.naive_bayes import GaussianNB\n",
        "from sklearn.metrics import accuracy_score, recall_score, precision_score, f1_score\n",
        "from sklearn.preprocessing import MinMaxScaler"
      ],
      "metadata": {
        "id": "0aIXtIOToqv0"
      },
      "execution_count": null,
      "outputs": []
    },
    {
      "cell_type": "markdown",
      "source": [
        "# 2. **Reading Data**"
      ],
      "metadata": {
        "id": "YHCHYSwbox_W"
      }
    },
    {
      "cell_type": "markdown",
      "source": [
        "To start working with the data i have to read it first and create a data frame for it\n"
      ],
      "metadata": {
        "id": "-K70wDGQwkj0"
      }
    },
    {
      "cell_type": "code",
      "execution_count": null,
      "metadata": {
        "colab": {
          "base_uri": "https://localhost:8080/"
        },
        "id": "eg_tGgfAhLH0",
        "outputId": "33802a5f-2d1e-480d-80b5-2a7b00b25acb"
      },
      "outputs": [
        {
          "output_type": "execute_result",
          "data": {
            "text/plain": [
              "                  CASE_ID      OFFER_NAME CUSTOMER_TYPE    CUSTOMER_GROUP  \\\n",
              "0      CAS-1060890-L3D6Q6       FTTH Home           CBU         FTTH Home   \n",
              "1       CAS-388567-W4B9Q3             NaN           CBU               NaN   \n",
              "2      CAS-1494939-L9F0X7  Bitstream Home           CBU  Wanadoo-ADSL-Res   \n",
              "3      CAS-1059985-K3Y9F7       FTTH Home           CBU         FTTH Home   \n",
              "4      CAS-1239942-Y1S2F5       FTTH Home           CBU         FTTH Home   \n",
              "...                   ...             ...           ...               ...   \n",
              "10410   CAS-549162-Y2F4X6  OnLine Prepaid           CBU           Prepaid   \n",
              "10411  CAS-1094578-B7J7Z0       FTTH Home           CBU         FTTH Home   \n",
              "10412   CAS-470088-Q3Y2V7  FTTB Corporate           EBU    FTTB Corporate   \n",
              "10413  CAS-1249800-V2H6C7  Bitstream Home           CBU  Wanadoo-ADSL-Res   \n",
              "10414   CAS-805076-V0F0N9  Bitstream Home           CBU  Wanadoo-ADSL-Res   \n",
              "\n",
              "      CURRENT_STATUS ESCALATION_FLAG ESCALATED_GROUP         OPEN_DATE  \\\n",
              "0           Resolved             Yes          F&I_BO  19.06.2022 06:07   \n",
              "1           Resolved             Yes       Mobile_BO  04.04.2022 14:11   \n",
              "2           Resolved              No             NaN  03.08.2022 03:20   \n",
              "3           Resolved              No             NaN  18.06.2022 20:38   \n",
              "4           Resolved              No             NaN  06.07.2022 01:22   \n",
              "...              ...             ...             ...               ...   \n",
              "10410       Resolved              No             NaN  23.04.2022 09:31   \n",
              "10411       Resolved              No             NaN  21.06.2022 19:40   \n",
              "10412       Resolved              No             NaN  14.04.2022 14:36   \n",
              "10413       Resolved              No             NaN  07.07.2022 05:54   \n",
              "10414       Resolved              No             NaN  22.05.2022 20:31   \n",
              "\n",
              "         OPEN_USER        CLOSE_DATE  ... AGE_BRACKET      ACTUAL_COMPLAINT  \\\n",
              "0             DANA  21.06.2022 13:41  ...         2.0      Actual Complaint   \n",
              "1      TCRMService  05.04.2022 12:13  ...         1.0  Not Actual Complaint   \n",
              "2           MOUTAZ  03.08.2022 03:20  ...         1.0       User Not Filled   \n",
              "3            MOATH  18.06.2022 20:38  ...         1.0       User Not Filled   \n",
              "4          IBRAHIM  06.07.2022 01:22  ...         1.0       User Not Filled   \n",
              "...            ...               ...  ...         ...                   ...   \n",
              "10410        ABRAR  23.04.2022 09:31  ...         1.0       User Not Filled   \n",
              "10411        AHMAD  21.06.2022 19:40  ...         1.0       User Not Filled   \n",
              "10412      YASMEEN  14.04.2022 14:36  ...         1.0       User Not Filled   \n",
              "10413      ALANOUD  07.07.2022 05:54  ...         1.0       User Not Filled   \n",
              "10414      HUSSEIN  22.05.2022 20:31  ...         1.0       User Not Filled   \n",
              "\n",
              "       CALLBACK_MECHANISM RESOLUTION RESOLUTION_DESCRIPTION CASE_DESC  \\\n",
              "0                   Phone        NaN                    NaN       NaN   \n",
              "1                   Phone        NaN                    NaN       NaN   \n",
              "2                     NaN        NaN                    NaN       NaN   \n",
              "3                     NaN        NaN                    NaN       NaN   \n",
              "4                     NaN        NaN                    NaN       NaN   \n",
              "...                   ...        ...                    ...       ...   \n",
              "10410                 NaN        NaN                    NaN       NaN   \n",
              "10411                 NaN        NaN                    NaN       NaN   \n",
              "10412                 NaN        NaN                    NaN       NaN   \n",
              "10413                 NaN        NaN                    NaN       NaN   \n",
              "10414                 NaN        NaN                    NaN       NaN   \n",
              "\n",
              "                         OPEN_GR COMPLAINT_TYPE   PRODUCT                 CASE  \n",
              "0      CBU / EBU - personal view      Technical  Internet  Technical complaint  \n",
              "1           System Administrator     Commercial    Mobile     Commercial claim  \n",
              "2          CBU - CC 1st Layer A       Technical  Internet  Technical complaint  \n",
              "3                            NaN      Technical  Internet  Technical complaint  \n",
              "4          CBU - CC 1st Layer A       Technical  Internet  Technical complaint  \n",
              "...                          ...            ...       ...                  ...  \n",
              "10410                        NaN     Commercial    Mobile     Commercial claim  \n",
              "10411      CBU - CC 1st Layer A       Technical  Internet  Technical complaint  \n",
              "10412      CBU - CC 1st Layer A       Technical  Internet  Technical complaint  \n",
              "10413      CBU - CC 1st Layer A       Technical  Internet  Technical complaint  \n",
              "10414                        NaN      Technical  Internet  Technical complaint  \n",
              "\n",
              "[10415 rows x 22 columns]"
            ],
            "text/html": [
              "\n",
              "  <div id=\"df-5beba15e-7730-483f-aa51-d3f01d76cd80\">\n",
              "    <div class=\"colab-df-container\">\n",
              "      <div>\n",
              "<style scoped>\n",
              "    .dataframe tbody tr th:only-of-type {\n",
              "        vertical-align: middle;\n",
              "    }\n",
              "\n",
              "    .dataframe tbody tr th {\n",
              "        vertical-align: top;\n",
              "    }\n",
              "\n",
              "    .dataframe thead th {\n",
              "        text-align: right;\n",
              "    }\n",
              "</style>\n",
              "<table border=\"1\" class=\"dataframe\">\n",
              "  <thead>\n",
              "    <tr style=\"text-align: right;\">\n",
              "      <th></th>\n",
              "      <th>CASE_ID</th>\n",
              "      <th>OFFER_NAME</th>\n",
              "      <th>CUSTOMER_TYPE</th>\n",
              "      <th>CUSTOMER_GROUP</th>\n",
              "      <th>CURRENT_STATUS</th>\n",
              "      <th>ESCALATION_FLAG</th>\n",
              "      <th>ESCALATED_GROUP</th>\n",
              "      <th>OPEN_DATE</th>\n",
              "      <th>OPEN_USER</th>\n",
              "      <th>CLOSE_DATE</th>\n",
              "      <th>...</th>\n",
              "      <th>AGE_BRACKET</th>\n",
              "      <th>ACTUAL_COMPLAINT</th>\n",
              "      <th>CALLBACK_MECHANISM</th>\n",
              "      <th>RESOLUTION</th>\n",
              "      <th>RESOLUTION_DESCRIPTION</th>\n",
              "      <th>CASE_DESC</th>\n",
              "      <th>OPEN_GR</th>\n",
              "      <th>COMPLAINT_TYPE</th>\n",
              "      <th>PRODUCT</th>\n",
              "      <th>CASE</th>\n",
              "    </tr>\n",
              "  </thead>\n",
              "  <tbody>\n",
              "    <tr>\n",
              "      <th>0</th>\n",
              "      <td>CAS-1060890-L3D6Q6</td>\n",
              "      <td>FTTH Home</td>\n",
              "      <td>CBU</td>\n",
              "      <td>FTTH Home</td>\n",
              "      <td>Resolved</td>\n",
              "      <td>Yes</td>\n",
              "      <td>F&amp;I_BO</td>\n",
              "      <td>19.06.2022 06:07</td>\n",
              "      <td>DANA</td>\n",
              "      <td>21.06.2022 13:41</td>\n",
              "      <td>...</td>\n",
              "      <td>2.0</td>\n",
              "      <td>Actual Complaint</td>\n",
              "      <td>Phone</td>\n",
              "      <td>NaN</td>\n",
              "      <td>NaN</td>\n",
              "      <td>NaN</td>\n",
              "      <td>CBU / EBU - personal view</td>\n",
              "      <td>Technical</td>\n",
              "      <td>Internet</td>\n",
              "      <td>Technical complaint</td>\n",
              "    </tr>\n",
              "    <tr>\n",
              "      <th>1</th>\n",
              "      <td>CAS-388567-W4B9Q3</td>\n",
              "      <td>NaN</td>\n",
              "      <td>CBU</td>\n",
              "      <td>NaN</td>\n",
              "      <td>Resolved</td>\n",
              "      <td>Yes</td>\n",
              "      <td>Mobile_BO</td>\n",
              "      <td>04.04.2022 14:11</td>\n",
              "      <td>TCRMService</td>\n",
              "      <td>05.04.2022 12:13</td>\n",
              "      <td>...</td>\n",
              "      <td>1.0</td>\n",
              "      <td>Not Actual Complaint</td>\n",
              "      <td>Phone</td>\n",
              "      <td>NaN</td>\n",
              "      <td>NaN</td>\n",
              "      <td>NaN</td>\n",
              "      <td>System Administrator</td>\n",
              "      <td>Commercial</td>\n",
              "      <td>Mobile</td>\n",
              "      <td>Commercial claim</td>\n",
              "    </tr>\n",
              "    <tr>\n",
              "      <th>2</th>\n",
              "      <td>CAS-1494939-L9F0X7</td>\n",
              "      <td>Bitstream Home</td>\n",
              "      <td>CBU</td>\n",
              "      <td>Wanadoo-ADSL-Res</td>\n",
              "      <td>Resolved</td>\n",
              "      <td>No</td>\n",
              "      <td>NaN</td>\n",
              "      <td>03.08.2022 03:20</td>\n",
              "      <td>MOUTAZ</td>\n",
              "      <td>03.08.2022 03:20</td>\n",
              "      <td>...</td>\n",
              "      <td>1.0</td>\n",
              "      <td>User Not Filled</td>\n",
              "      <td>NaN</td>\n",
              "      <td>NaN</td>\n",
              "      <td>NaN</td>\n",
              "      <td>NaN</td>\n",
              "      <td>CBU - CC 1st Layer A</td>\n",
              "      <td>Technical</td>\n",
              "      <td>Internet</td>\n",
              "      <td>Technical complaint</td>\n",
              "    </tr>\n",
              "    <tr>\n",
              "      <th>3</th>\n",
              "      <td>CAS-1059985-K3Y9F7</td>\n",
              "      <td>FTTH Home</td>\n",
              "      <td>CBU</td>\n",
              "      <td>FTTH Home</td>\n",
              "      <td>Resolved</td>\n",
              "      <td>No</td>\n",
              "      <td>NaN</td>\n",
              "      <td>18.06.2022 20:38</td>\n",
              "      <td>MOATH</td>\n",
              "      <td>18.06.2022 20:38</td>\n",
              "      <td>...</td>\n",
              "      <td>1.0</td>\n",
              "      <td>User Not Filled</td>\n",
              "      <td>NaN</td>\n",
              "      <td>NaN</td>\n",
              "      <td>NaN</td>\n",
              "      <td>NaN</td>\n",
              "      <td>NaN</td>\n",
              "      <td>Technical</td>\n",
              "      <td>Internet</td>\n",
              "      <td>Technical complaint</td>\n",
              "    </tr>\n",
              "    <tr>\n",
              "      <th>4</th>\n",
              "      <td>CAS-1239942-Y1S2F5</td>\n",
              "      <td>FTTH Home</td>\n",
              "      <td>CBU</td>\n",
              "      <td>FTTH Home</td>\n",
              "      <td>Resolved</td>\n",
              "      <td>No</td>\n",
              "      <td>NaN</td>\n",
              "      <td>06.07.2022 01:22</td>\n",
              "      <td>IBRAHIM</td>\n",
              "      <td>06.07.2022 01:22</td>\n",
              "      <td>...</td>\n",
              "      <td>1.0</td>\n",
              "      <td>User Not Filled</td>\n",
              "      <td>NaN</td>\n",
              "      <td>NaN</td>\n",
              "      <td>NaN</td>\n",
              "      <td>NaN</td>\n",
              "      <td>CBU - CC 1st Layer A</td>\n",
              "      <td>Technical</td>\n",
              "      <td>Internet</td>\n",
              "      <td>Technical complaint</td>\n",
              "    </tr>\n",
              "    <tr>\n",
              "      <th>...</th>\n",
              "      <td>...</td>\n",
              "      <td>...</td>\n",
              "      <td>...</td>\n",
              "      <td>...</td>\n",
              "      <td>...</td>\n",
              "      <td>...</td>\n",
              "      <td>...</td>\n",
              "      <td>...</td>\n",
              "      <td>...</td>\n",
              "      <td>...</td>\n",
              "      <td>...</td>\n",
              "      <td>...</td>\n",
              "      <td>...</td>\n",
              "      <td>...</td>\n",
              "      <td>...</td>\n",
              "      <td>...</td>\n",
              "      <td>...</td>\n",
              "      <td>...</td>\n",
              "      <td>...</td>\n",
              "      <td>...</td>\n",
              "      <td>...</td>\n",
              "    </tr>\n",
              "    <tr>\n",
              "      <th>10410</th>\n",
              "      <td>CAS-549162-Y2F4X6</td>\n",
              "      <td>OnLine Prepaid</td>\n",
              "      <td>CBU</td>\n",
              "      <td>Prepaid</td>\n",
              "      <td>Resolved</td>\n",
              "      <td>No</td>\n",
              "      <td>NaN</td>\n",
              "      <td>23.04.2022 09:31</td>\n",
              "      <td>ABRAR</td>\n",
              "      <td>23.04.2022 09:31</td>\n",
              "      <td>...</td>\n",
              "      <td>1.0</td>\n",
              "      <td>User Not Filled</td>\n",
              "      <td>NaN</td>\n",
              "      <td>NaN</td>\n",
              "      <td>NaN</td>\n",
              "      <td>NaN</td>\n",
              "      <td>NaN</td>\n",
              "      <td>Commercial</td>\n",
              "      <td>Mobile</td>\n",
              "      <td>Commercial claim</td>\n",
              "    </tr>\n",
              "    <tr>\n",
              "      <th>10411</th>\n",
              "      <td>CAS-1094578-B7J7Z0</td>\n",
              "      <td>FTTH Home</td>\n",
              "      <td>CBU</td>\n",
              "      <td>FTTH Home</td>\n",
              "      <td>Resolved</td>\n",
              "      <td>No</td>\n",
              "      <td>NaN</td>\n",
              "      <td>21.06.2022 19:40</td>\n",
              "      <td>AHMAD</td>\n",
              "      <td>21.06.2022 19:40</td>\n",
              "      <td>...</td>\n",
              "      <td>1.0</td>\n",
              "      <td>User Not Filled</td>\n",
              "      <td>NaN</td>\n",
              "      <td>NaN</td>\n",
              "      <td>NaN</td>\n",
              "      <td>NaN</td>\n",
              "      <td>CBU - CC 1st Layer A</td>\n",
              "      <td>Technical</td>\n",
              "      <td>Internet</td>\n",
              "      <td>Technical complaint</td>\n",
              "    </tr>\n",
              "    <tr>\n",
              "      <th>10412</th>\n",
              "      <td>CAS-470088-Q3Y2V7</td>\n",
              "      <td>FTTB Corporate</td>\n",
              "      <td>EBU</td>\n",
              "      <td>FTTB Corporate</td>\n",
              "      <td>Resolved</td>\n",
              "      <td>No</td>\n",
              "      <td>NaN</td>\n",
              "      <td>14.04.2022 14:36</td>\n",
              "      <td>YASMEEN</td>\n",
              "      <td>14.04.2022 14:36</td>\n",
              "      <td>...</td>\n",
              "      <td>1.0</td>\n",
              "      <td>User Not Filled</td>\n",
              "      <td>NaN</td>\n",
              "      <td>NaN</td>\n",
              "      <td>NaN</td>\n",
              "      <td>NaN</td>\n",
              "      <td>CBU - CC 1st Layer A</td>\n",
              "      <td>Technical</td>\n",
              "      <td>Internet</td>\n",
              "      <td>Technical complaint</td>\n",
              "    </tr>\n",
              "    <tr>\n",
              "      <th>10413</th>\n",
              "      <td>CAS-1249800-V2H6C7</td>\n",
              "      <td>Bitstream Home</td>\n",
              "      <td>CBU</td>\n",
              "      <td>Wanadoo-ADSL-Res</td>\n",
              "      <td>Resolved</td>\n",
              "      <td>No</td>\n",
              "      <td>NaN</td>\n",
              "      <td>07.07.2022 05:54</td>\n",
              "      <td>ALANOUD</td>\n",
              "      <td>07.07.2022 05:54</td>\n",
              "      <td>...</td>\n",
              "      <td>1.0</td>\n",
              "      <td>User Not Filled</td>\n",
              "      <td>NaN</td>\n",
              "      <td>NaN</td>\n",
              "      <td>NaN</td>\n",
              "      <td>NaN</td>\n",
              "      <td>CBU - CC 1st Layer A</td>\n",
              "      <td>Technical</td>\n",
              "      <td>Internet</td>\n",
              "      <td>Technical complaint</td>\n",
              "    </tr>\n",
              "    <tr>\n",
              "      <th>10414</th>\n",
              "      <td>CAS-805076-V0F0N9</td>\n",
              "      <td>Bitstream Home</td>\n",
              "      <td>CBU</td>\n",
              "      <td>Wanadoo-ADSL-Res</td>\n",
              "      <td>Resolved</td>\n",
              "      <td>No</td>\n",
              "      <td>NaN</td>\n",
              "      <td>22.05.2022 20:31</td>\n",
              "      <td>HUSSEIN</td>\n",
              "      <td>22.05.2022 20:31</td>\n",
              "      <td>...</td>\n",
              "      <td>1.0</td>\n",
              "      <td>User Not Filled</td>\n",
              "      <td>NaN</td>\n",
              "      <td>NaN</td>\n",
              "      <td>NaN</td>\n",
              "      <td>NaN</td>\n",
              "      <td>NaN</td>\n",
              "      <td>Technical</td>\n",
              "      <td>Internet</td>\n",
              "      <td>Technical complaint</td>\n",
              "    </tr>\n",
              "  </tbody>\n",
              "</table>\n",
              "<p>10415 rows × 22 columns</p>\n",
              "</div>\n",
              "      <button class=\"colab-df-convert\" onclick=\"convertToInteractive('df-5beba15e-7730-483f-aa51-d3f01d76cd80')\"\n",
              "              title=\"Convert this dataframe to an interactive table.\"\n",
              "              style=\"display:none;\">\n",
              "        \n",
              "  <svg xmlns=\"http://www.w3.org/2000/svg\" height=\"24px\"viewBox=\"0 0 24 24\"\n",
              "       width=\"24px\">\n",
              "    <path d=\"M0 0h24v24H0V0z\" fill=\"none\"/>\n",
              "    <path d=\"M18.56 5.44l.94 2.06.94-2.06 2.06-.94-2.06-.94-.94-2.06-.94 2.06-2.06.94zm-11 1L8.5 8.5l.94-2.06 2.06-.94-2.06-.94L8.5 2.5l-.94 2.06-2.06.94zm10 10l.94 2.06.94-2.06 2.06-.94-2.06-.94-.94-2.06-.94 2.06-2.06.94z\"/><path d=\"M17.41 7.96l-1.37-1.37c-.4-.4-.92-.59-1.43-.59-.52 0-1.04.2-1.43.59L10.3 9.45l-7.72 7.72c-.78.78-.78 2.05 0 2.83L4 21.41c.39.39.9.59 1.41.59.51 0 1.02-.2 1.41-.59l7.78-7.78 2.81-2.81c.8-.78.8-2.07 0-2.86zM5.41 20L4 18.59l7.72-7.72 1.47 1.35L5.41 20z\"/>\n",
              "  </svg>\n",
              "      </button>\n",
              "      \n",
              "  <style>\n",
              "    .colab-df-container {\n",
              "      display:flex;\n",
              "      flex-wrap:wrap;\n",
              "      gap: 12px;\n",
              "    }\n",
              "\n",
              "    .colab-df-convert {\n",
              "      background-color: #E8F0FE;\n",
              "      border: none;\n",
              "      border-radius: 50%;\n",
              "      cursor: pointer;\n",
              "      display: none;\n",
              "      fill: #1967D2;\n",
              "      height: 32px;\n",
              "      padding: 0 0 0 0;\n",
              "      width: 32px;\n",
              "    }\n",
              "\n",
              "    .colab-df-convert:hover {\n",
              "      background-color: #E2EBFA;\n",
              "      box-shadow: 0px 1px 2px rgba(60, 64, 67, 0.3), 0px 1px 3px 1px rgba(60, 64, 67, 0.15);\n",
              "      fill: #174EA6;\n",
              "    }\n",
              "\n",
              "    [theme=dark] .colab-df-convert {\n",
              "      background-color: #3B4455;\n",
              "      fill: #D2E3FC;\n",
              "    }\n",
              "\n",
              "    [theme=dark] .colab-df-convert:hover {\n",
              "      background-color: #434B5C;\n",
              "      box-shadow: 0px 1px 3px 1px rgba(0, 0, 0, 0.15);\n",
              "      filter: drop-shadow(0px 1px 2px rgba(0, 0, 0, 0.3));\n",
              "      fill: #FFFFFF;\n",
              "    }\n",
              "  </style>\n",
              "\n",
              "      <script>\n",
              "        const buttonEl =\n",
              "          document.querySelector('#df-5beba15e-7730-483f-aa51-d3f01d76cd80 button.colab-df-convert');\n",
              "        buttonEl.style.display =\n",
              "          google.colab.kernel.accessAllowed ? 'block' : 'none';\n",
              "\n",
              "        async function convertToInteractive(key) {\n",
              "          const element = document.querySelector('#df-5beba15e-7730-483f-aa51-d3f01d76cd80');\n",
              "          const dataTable =\n",
              "            await google.colab.kernel.invokeFunction('convertToInteractive',\n",
              "                                                     [key], {});\n",
              "          if (!dataTable) return;\n",
              "\n",
              "          const docLinkHtml = 'Like what you see? Visit the ' +\n",
              "            '<a target=\"_blank\" href=https://colab.research.google.com/notebooks/data_table.ipynb>data table notebook</a>'\n",
              "            + ' to learn more about interactive tables.';\n",
              "          element.innerHTML = '';\n",
              "          dataTable['output_type'] = 'display_data';\n",
              "          await google.colab.output.renderOutput(dataTable, element);\n",
              "          const docLink = document.createElement('div');\n",
              "          docLink.innerHTML = docLinkHtml;\n",
              "          element.appendChild(docLink);\n",
              "        }\n",
              "      </script>\n",
              "    </div>\n",
              "  </div>\n",
              "  "
            ]
          },
          "metadata": {},
          "execution_count": 2
        }
      ],
      "source": [
        "# Reading csv file function\n",
        "dfread = pd.read_csv(\"/content/drive/MyDrive/Complaints.csv\")\n",
        "# Data frame function\n",
        "df = pd.DataFrame(dfread)\n",
        "df"
      ]
    },
    {
      "cell_type": "markdown",
      "source": [
        "# **3. Pre-Proccessing**"
      ],
      "metadata": {
        "id": "8NiD-fejpKPU"
      }
    },
    {
      "cell_type": "markdown",
      "source": [
        "I have to clean and fill the data to be able use models on it."
      ],
      "metadata": {
        "id": "NV7djjfrwrYz"
      }
    },
    {
      "cell_type": "code",
      "source": [
        "# Check how many duplicated data are\n",
        "df.duplicated().sum()"
      ],
      "metadata": {
        "colab": {
          "base_uri": "https://localhost:8080/"
        },
        "id": "EBCLb2QW6-fi",
        "outputId": "5eb4856c-4f0d-4482-d6e2-34912664e848"
      },
      "execution_count": null,
      "outputs": [
        {
          "output_type": "execute_result",
          "data": {
            "text/plain": [
              "0"
            ]
          },
          "metadata": {},
          "execution_count": 3
        }
      ]
    },
    {
      "cell_type": "code",
      "source": [
        "# Showing how many missing values are in each column\n",
        "df.isnull().sum()"
      ],
      "metadata": {
        "colab": {
          "base_uri": "https://localhost:8080/"
        },
        "id": "IneYcZSBhpdg",
        "outputId": "fa5d2a39-02a7-42f8-f2e2-d5dd72a01269"
      },
      "execution_count": null,
      "outputs": [
        {
          "output_type": "execute_result",
          "data": {
            "text/plain": [
              "CASE_ID                       0\n",
              "OFFER_NAME                 1293\n",
              "CUSTOMER_TYPE                 0\n",
              "CUSTOMER_GROUP             1348\n",
              "CURRENT_STATUS                0\n",
              "ESCALATION_FLAG               0\n",
              "ESCALATED_GROUP            7055\n",
              "OPEN_DATE                     0\n",
              "OPEN_USER                   362\n",
              "CLOSE_DATE                  119\n",
              "CLOSE_GROUP                4890\n",
              "CLOSE_USER                  516\n",
              "AGE_BRACKET                 119\n",
              "ACTUAL_COMPLAINT              0\n",
              "CALLBACK_MECHANISM         7277\n",
              "RESOLUTION                10336\n",
              "RESOLUTION_DESCRIPTION    10376\n",
              "CASE_DESC                  9243\n",
              "OPEN_GR                    4561\n",
              "COMPLAINT_TYPE                0\n",
              "PRODUCT                       0\n",
              "CASE                          0\n",
              "dtype: int64"
            ]
          },
          "metadata": {},
          "execution_count": 4
        }
      ]
    },
    {
      "cell_type": "code",
      "source": [
        "# Show what the data is in the column \n",
        "df['COMPLAINT_TYPE'].value_counts()"
      ],
      "metadata": {
        "colab": {
          "base_uri": "https://localhost:8080/"
        },
        "id": "QFeJcvXyFs0P",
        "outputId": "a2c9c6b1-8b91-440e-81c0-99a4414ca110"
      },
      "execution_count": null,
      "outputs": [
        {
          "output_type": "execute_result",
          "data": {
            "text/plain": [
              "Technical     7952\n",
              "Commercial    2463\n",
              "Name: COMPLAINT_TYPE, dtype: int64"
            ]
          },
          "metadata": {},
          "execution_count": 5
        }
      ]
    },
    {
      "cell_type": "code",
      "source": [
        "# Show what the data is in the column \n",
        "df['PRODUCT'].value_counts()"
      ],
      "metadata": {
        "colab": {
          "base_uri": "https://localhost:8080/"
        },
        "id": "l2oLMghRFs7t",
        "outputId": "aaa693cc-2330-4366-db6d-25bee4d44d25"
      },
      "execution_count": null,
      "outputs": [
        {
          "output_type": "execute_result",
          "data": {
            "text/plain": [
              "Internet    7297\n",
              "Mobile      3118\n",
              "Name: PRODUCT, dtype: int64"
            ]
          },
          "metadata": {},
          "execution_count": 6
        }
      ]
    },
    {
      "cell_type": "code",
      "source": [
        "# Show what the data is in the column \n",
        "df['CASE'].value_counts()"
      ],
      "metadata": {
        "colab": {
          "base_uri": "https://localhost:8080/"
        },
        "id": "GE6ydUZdFs-h",
        "outputId": "22851f3c-422d-4e12-8f00-b0cc9e15d596"
      },
      "execution_count": null,
      "outputs": [
        {
          "output_type": "execute_result",
          "data": {
            "text/plain": [
              "Technical complaint    7654\n",
              "Commercial claim       2074\n",
              "OJO-Internal            347\n",
              "OM_CLAIM                318\n",
              "OM Technical             22\n",
              "Name: CASE, dtype: int64"
            ]
          },
          "metadata": {},
          "execution_count": 7
        }
      ]
    },
    {
      "cell_type": "code",
      "source": [
        "# Filling the missing data with the word \"Unknown\"\n",
        "df['OFFER_NAME'] = df['OFFER_NAME'].fillna(\"Unknown\")"
      ],
      "metadata": {
        "id": "ncDAZ8xAKz5w"
      },
      "execution_count": null,
      "outputs": []
    },
    {
      "cell_type": "code",
      "source": [
        "# Filling the missing data with the word \"Unknown\"\n",
        "df['CUSTOMER_GROUP'] = df['CUSTOMER_GROUP'].fillna(\"Unknown\")"
      ],
      "metadata": {
        "id": "-zfF5cNWUUN_"
      },
      "execution_count": null,
      "outputs": []
    },
    {
      "cell_type": "code",
      "source": [
        "# Filling the missing data with the word \"Unknown\"\n",
        "df['OPEN_USER'] = df['OPEN_USER'].fillna(\"Unknown\")"
      ],
      "metadata": {
        "id": "BzO6eeHY80-G"
      },
      "execution_count": null,
      "outputs": []
    },
    {
      "cell_type": "code",
      "source": [
        "# Filling the missing data with the word \"Unknown\"\n",
        "df['CLOSE_USER'] = df['CLOSE_USER'].fillna(\"Unknown\")"
      ],
      "metadata": {
        "id": "0d1QW-zdHNmW"
      },
      "execution_count": null,
      "outputs": []
    },
    {
      "cell_type": "code",
      "source": [
        "# Deleting a column\n",
        "del df['RESOLUTION']"
      ],
      "metadata": {
        "id": "YBTtiwMAhzax"
      },
      "execution_count": null,
      "outputs": []
    },
    {
      "cell_type": "code",
      "source": [
        "# Deleting a column\n",
        "del df['RESOLUTION_DESCRIPTION']"
      ],
      "metadata": {
        "id": "c-GtVfOFjVYZ"
      },
      "execution_count": null,
      "outputs": []
    },
    {
      "cell_type": "code",
      "source": [
        "# Deleting a column\n",
        "del df['CASE_DESC']"
      ],
      "metadata": {
        "id": "vL3uTbXljcGO"
      },
      "execution_count": null,
      "outputs": []
    },
    {
      "cell_type": "code",
      "source": [
        "# Filling a column with the column mean\n",
        "df['AGE_BRACKET'] = df['AGE_BRACKET'].fillna(df['AGE_BRACKET'].mean())\n",
        "# Make the mean result as integer.\n",
        "df['AGE_BRACKET'] = df['AGE_BRACKET'].fillna(0).astype(int)"
      ],
      "metadata": {
        "id": "ND_mkRQZPaFX"
      },
      "execution_count": null,
      "outputs": []
    },
    {
      "cell_type": "code",
      "source": [
        "# Deleting a column\n",
        "del df['CLOSE_DATE']"
      ],
      "metadata": {
        "id": "Kue-R73bT9so"
      },
      "execution_count": null,
      "outputs": []
    },
    {
      "cell_type": "code",
      "source": [
        "# Deleting a column\n",
        "del df['CALLBACK_MECHANISM'] "
      ],
      "metadata": {
        "id": "yntq9H7oUxpB"
      },
      "execution_count": null,
      "outputs": []
    },
    {
      "cell_type": "code",
      "source": [
        "#Filling a column due to a condition\n",
        "for x in range(len(df)):\n",
        "   if df['ESCALATION_FLAG'].iloc[x] == 'Yes' and df['ESCALATED_GROUP'][x] == np.nan:\n",
        "       df['CLOSE_GROUP'].iloc[x] = df['CLOSE_GROUP'].fillna(df['ESCALATED_GROUP']).iloc[x]"
      ],
      "metadata": {
        "id": "2lewVtSCjZBG"
      },
      "execution_count": null,
      "outputs": []
    },
    {
      "cell_type": "code",
      "source": [
        "# Deleting a column\n",
        "del df['ESCALATED_GROUP']"
      ],
      "metadata": {
        "id": "o7eMkCMHT4Jz"
      },
      "execution_count": null,
      "outputs": []
    },
    {
      "cell_type": "code",
      "source": [
        "# Filling the missing data with the word \"Unknown\"\n",
        "df[\"OPEN_GR\"] = df[\"OPEN_GR\"].fillna(\"Unknown\")"
      ],
      "metadata": {
        "id": "dwhPop6Yj3Ss"
      },
      "execution_count": null,
      "outputs": []
    },
    {
      "cell_type": "code",
      "source": [
        "# Filling the missing data with the word \"Unknown\"\n",
        "df[\"CLOSE_GROUP\"] = df[\"CLOSE_GROUP\"].fillna(\"Unknown\")"
      ],
      "metadata": {
        "id": "vq51dgsulBul"
      },
      "execution_count": null,
      "outputs": []
    },
    {
      "cell_type": "code",
      "source": [
        "# Showing how many missing values are in each column\n",
        "df.isnull().sum()"
      ],
      "metadata": {
        "colab": {
          "base_uri": "https://localhost:8080/"
        },
        "id": "i9-7vFqOlPxF",
        "outputId": "58745301-7f2d-403d-cd97-89588cb4e92c"
      },
      "execution_count": null,
      "outputs": [
        {
          "output_type": "execute_result",
          "data": {
            "text/plain": [
              "CASE_ID             0\n",
              "OFFER_NAME          0\n",
              "CUSTOMER_TYPE       0\n",
              "CUSTOMER_GROUP      0\n",
              "CURRENT_STATUS      0\n",
              "ESCALATION_FLAG     0\n",
              "OPEN_DATE           0\n",
              "OPEN_USER           0\n",
              "CLOSE_GROUP         0\n",
              "CLOSE_USER          0\n",
              "AGE_BRACKET         0\n",
              "ACTUAL_COMPLAINT    0\n",
              "OPEN_GR             0\n",
              "COMPLAINT_TYPE      0\n",
              "PRODUCT             0\n",
              "CASE                0\n",
              "dtype: int64"
            ]
          },
          "metadata": {},
          "execution_count": 22
        }
      ]
    },
    {
      "cell_type": "markdown",
      "source": [
        "# **4. Feature Engineering and Dataset Splitting**"
      ],
      "metadata": {
        "id": "U39BnO_zpqJC"
      }
    },
    {
      "cell_type": "markdown",
      "source": [
        "Computers understand numbers, so i have to make the data as numrical so it can be understood by the computer and use models"
      ],
      "metadata": {
        "id": "pMetonZmxLM7"
      }
    },
    {
      "cell_type": "code",
      "source": [
        "# Function to change strings to numbers so the computer can understand\n",
        "columns = df.select_dtypes(['object']).columns\n",
        "from sklearn.preprocessing import LabelEncoder\n",
        "LE = LabelEncoder()\n",
        "df[columns] = df[columns].apply(LabelEncoder().fit_transform)\n",
        "df.head()"
      ],
      "metadata": {
        "colab": {
          "base_uri": "https://localhost:8080/"
        },
        "id": "nImc-jOLlRga",
        "outputId": "00ac6e6c-a32e-44ff-ad4b-8f862d6952f8"
      },
      "execution_count": null,
      "outputs": [
        {
          "output_type": "execute_result",
          "data": {
            "text/plain": [
              "   CASE_ID  OFFER_NAME  CUSTOMER_TYPE  CUSTOMER_GROUP  CURRENT_STATUS  \\\n",
              "0      481          24              0              16               1   \n",
              "1     5778         139              0              68               1   \n",
              "2     3263           9              0              71               1   \n",
              "3      474          24              0              16               1   \n",
              "4     1462          24              0              16               1   \n",
              "\n",
              "   ESCALATION_FLAG  OPEN_DATE  OPEN_USER  CLOSE_GROUP  CLOSE_USER  \\\n",
              "0                1       5650         55           19          57   \n",
              "1                1        965        249           28          78   \n",
              "2                0        867        166           10         165   \n",
              "3                0       5364        155           46         152   \n",
              "4                0       1660        110           10         108   \n",
              "\n",
              "   AGE_BRACKET  ACTUAL_COMPLAINT  OPEN_GR  COMPLAINT_TYPE  PRODUCT  CASE  \n",
              "0            2                 0       10               1        0     4  \n",
              "1            1                 1       17               0        1     0  \n",
              "2            1                 2        2               1        0     4  \n",
              "3            1                 2       18               1        0     4  \n",
              "4            1                 2        2               1        0     4  "
            ],
            "text/html": [
              "\n",
              "  <div id=\"df-f20a1230-0d89-499f-a214-82e762c6f369\">\n",
              "    <div class=\"colab-df-container\">\n",
              "      <div>\n",
              "<style scoped>\n",
              "    .dataframe tbody tr th:only-of-type {\n",
              "        vertical-align: middle;\n",
              "    }\n",
              "\n",
              "    .dataframe tbody tr th {\n",
              "        vertical-align: top;\n",
              "    }\n",
              "\n",
              "    .dataframe thead th {\n",
              "        text-align: right;\n",
              "    }\n",
              "</style>\n",
              "<table border=\"1\" class=\"dataframe\">\n",
              "  <thead>\n",
              "    <tr style=\"text-align: right;\">\n",
              "      <th></th>\n",
              "      <th>CASE_ID</th>\n",
              "      <th>OFFER_NAME</th>\n",
              "      <th>CUSTOMER_TYPE</th>\n",
              "      <th>CUSTOMER_GROUP</th>\n",
              "      <th>CURRENT_STATUS</th>\n",
              "      <th>ESCALATION_FLAG</th>\n",
              "      <th>OPEN_DATE</th>\n",
              "      <th>OPEN_USER</th>\n",
              "      <th>CLOSE_GROUP</th>\n",
              "      <th>CLOSE_USER</th>\n",
              "      <th>AGE_BRACKET</th>\n",
              "      <th>ACTUAL_COMPLAINT</th>\n",
              "      <th>OPEN_GR</th>\n",
              "      <th>COMPLAINT_TYPE</th>\n",
              "      <th>PRODUCT</th>\n",
              "      <th>CASE</th>\n",
              "    </tr>\n",
              "  </thead>\n",
              "  <tbody>\n",
              "    <tr>\n",
              "      <th>0</th>\n",
              "      <td>481</td>\n",
              "      <td>24</td>\n",
              "      <td>0</td>\n",
              "      <td>16</td>\n",
              "      <td>1</td>\n",
              "      <td>1</td>\n",
              "      <td>5650</td>\n",
              "      <td>55</td>\n",
              "      <td>19</td>\n",
              "      <td>57</td>\n",
              "      <td>2</td>\n",
              "      <td>0</td>\n",
              "      <td>10</td>\n",
              "      <td>1</td>\n",
              "      <td>0</td>\n",
              "      <td>4</td>\n",
              "    </tr>\n",
              "    <tr>\n",
              "      <th>1</th>\n",
              "      <td>5778</td>\n",
              "      <td>139</td>\n",
              "      <td>0</td>\n",
              "      <td>68</td>\n",
              "      <td>1</td>\n",
              "      <td>1</td>\n",
              "      <td>965</td>\n",
              "      <td>249</td>\n",
              "      <td>28</td>\n",
              "      <td>78</td>\n",
              "      <td>1</td>\n",
              "      <td>1</td>\n",
              "      <td>17</td>\n",
              "      <td>0</td>\n",
              "      <td>1</td>\n",
              "      <td>0</td>\n",
              "    </tr>\n",
              "    <tr>\n",
              "      <th>2</th>\n",
              "      <td>3263</td>\n",
              "      <td>9</td>\n",
              "      <td>0</td>\n",
              "      <td>71</td>\n",
              "      <td>1</td>\n",
              "      <td>0</td>\n",
              "      <td>867</td>\n",
              "      <td>166</td>\n",
              "      <td>10</td>\n",
              "      <td>165</td>\n",
              "      <td>1</td>\n",
              "      <td>2</td>\n",
              "      <td>2</td>\n",
              "      <td>1</td>\n",
              "      <td>0</td>\n",
              "      <td>4</td>\n",
              "    </tr>\n",
              "    <tr>\n",
              "      <th>3</th>\n",
              "      <td>474</td>\n",
              "      <td>24</td>\n",
              "      <td>0</td>\n",
              "      <td>16</td>\n",
              "      <td>1</td>\n",
              "      <td>0</td>\n",
              "      <td>5364</td>\n",
              "      <td>155</td>\n",
              "      <td>46</td>\n",
              "      <td>152</td>\n",
              "      <td>1</td>\n",
              "      <td>2</td>\n",
              "      <td>18</td>\n",
              "      <td>1</td>\n",
              "      <td>0</td>\n",
              "      <td>4</td>\n",
              "    </tr>\n",
              "    <tr>\n",
              "      <th>4</th>\n",
              "      <td>1462</td>\n",
              "      <td>24</td>\n",
              "      <td>0</td>\n",
              "      <td>16</td>\n",
              "      <td>1</td>\n",
              "      <td>0</td>\n",
              "      <td>1660</td>\n",
              "      <td>110</td>\n",
              "      <td>10</td>\n",
              "      <td>108</td>\n",
              "      <td>1</td>\n",
              "      <td>2</td>\n",
              "      <td>2</td>\n",
              "      <td>1</td>\n",
              "      <td>0</td>\n",
              "      <td>4</td>\n",
              "    </tr>\n",
              "  </tbody>\n",
              "</table>\n",
              "</div>\n",
              "      <button class=\"colab-df-convert\" onclick=\"convertToInteractive('df-f20a1230-0d89-499f-a214-82e762c6f369')\"\n",
              "              title=\"Convert this dataframe to an interactive table.\"\n",
              "              style=\"display:none;\">\n",
              "        \n",
              "  <svg xmlns=\"http://www.w3.org/2000/svg\" height=\"24px\"viewBox=\"0 0 24 24\"\n",
              "       width=\"24px\">\n",
              "    <path d=\"M0 0h24v24H0V0z\" fill=\"none\"/>\n",
              "    <path d=\"M18.56 5.44l.94 2.06.94-2.06 2.06-.94-2.06-.94-.94-2.06-.94 2.06-2.06.94zm-11 1L8.5 8.5l.94-2.06 2.06-.94-2.06-.94L8.5 2.5l-.94 2.06-2.06.94zm10 10l.94 2.06.94-2.06 2.06-.94-2.06-.94-.94-2.06-.94 2.06-2.06.94z\"/><path d=\"M17.41 7.96l-1.37-1.37c-.4-.4-.92-.59-1.43-.59-.52 0-1.04.2-1.43.59L10.3 9.45l-7.72 7.72c-.78.78-.78 2.05 0 2.83L4 21.41c.39.39.9.59 1.41.59.51 0 1.02-.2 1.41-.59l7.78-7.78 2.81-2.81c.8-.78.8-2.07 0-2.86zM5.41 20L4 18.59l7.72-7.72 1.47 1.35L5.41 20z\"/>\n",
              "  </svg>\n",
              "      </button>\n",
              "      \n",
              "  <style>\n",
              "    .colab-df-container {\n",
              "      display:flex;\n",
              "      flex-wrap:wrap;\n",
              "      gap: 12px;\n",
              "    }\n",
              "\n",
              "    .colab-df-convert {\n",
              "      background-color: #E8F0FE;\n",
              "      border: none;\n",
              "      border-radius: 50%;\n",
              "      cursor: pointer;\n",
              "      display: none;\n",
              "      fill: #1967D2;\n",
              "      height: 32px;\n",
              "      padding: 0 0 0 0;\n",
              "      width: 32px;\n",
              "    }\n",
              "\n",
              "    .colab-df-convert:hover {\n",
              "      background-color: #E2EBFA;\n",
              "      box-shadow: 0px 1px 2px rgba(60, 64, 67, 0.3), 0px 1px 3px 1px rgba(60, 64, 67, 0.15);\n",
              "      fill: #174EA6;\n",
              "    }\n",
              "\n",
              "    [theme=dark] .colab-df-convert {\n",
              "      background-color: #3B4455;\n",
              "      fill: #D2E3FC;\n",
              "    }\n",
              "\n",
              "    [theme=dark] .colab-df-convert:hover {\n",
              "      background-color: #434B5C;\n",
              "      box-shadow: 0px 1px 3px 1px rgba(0, 0, 0, 0.15);\n",
              "      filter: drop-shadow(0px 1px 2px rgba(0, 0, 0, 0.3));\n",
              "      fill: #FFFFFF;\n",
              "    }\n",
              "  </style>\n",
              "\n",
              "      <script>\n",
              "        const buttonEl =\n",
              "          document.querySelector('#df-f20a1230-0d89-499f-a214-82e762c6f369 button.colab-df-convert');\n",
              "        buttonEl.style.display =\n",
              "          google.colab.kernel.accessAllowed ? 'block' : 'none';\n",
              "\n",
              "        async function convertToInteractive(key) {\n",
              "          const element = document.querySelector('#df-f20a1230-0d89-499f-a214-82e762c6f369');\n",
              "          const dataTable =\n",
              "            await google.colab.kernel.invokeFunction('convertToInteractive',\n",
              "                                                     [key], {});\n",
              "          if (!dataTable) return;\n",
              "\n",
              "          const docLinkHtml = 'Like what you see? Visit the ' +\n",
              "            '<a target=\"_blank\" href=https://colab.research.google.com/notebooks/data_table.ipynb>data table notebook</a>'\n",
              "            + ' to learn more about interactive tables.';\n",
              "          element.innerHTML = '';\n",
              "          dataTable['output_type'] = 'display_data';\n",
              "          await google.colab.output.renderOutput(dataTable, element);\n",
              "          const docLink = document.createElement('div');\n",
              "          docLink.innerHTML = docLinkHtml;\n",
              "          element.appendChild(docLink);\n",
              "        }\n",
              "      </script>\n",
              "    </div>\n",
              "  </div>\n",
              "  "
            ]
          },
          "metadata": {},
          "execution_count": 23
        }
      ]
    },
    {
      "cell_type": "code",
      "source": [
        "# Determinning what x , y are\n",
        "\n",
        "y1 = df['COMPLAINT_TYPE']\n",
        "x1 = df.drop(['CASE_ID' ,'COMPLAINT_TYPE' , 'OPEN_DATE'], axis = 1)"
      ],
      "metadata": {
        "id": "RkBcLSPcnhdb"
      },
      "execution_count": null,
      "outputs": []
    },
    {
      "cell_type": "code",
      "source": [
        "# Split the data to train values and test values\n",
        "x1_train , x1_test , y1_train , y1_test = train_test_split(x1 , y1 , test_size = 0.2 , random_state = 0)"
      ],
      "metadata": {
        "id": "FRdoY4uKooMa"
      },
      "execution_count": null,
      "outputs": []
    },
    {
      "cell_type": "markdown",
      "source": [
        "# **5. Modeling**"
      ],
      "metadata": {
        "id": "-Wf77UaHrt4O"
      }
    },
    {
      "cell_type": "markdown",
      "source": [
        "Using models to predict the target (I used KNN + DT + NB) "
      ],
      "metadata": {
        "id": "_WcsFu1UxbHq"
      }
    },
    {
      "cell_type": "markdown",
      "source": [
        "**KNN**"
      ],
      "metadata": {
        "id": "3syjDzYqr5Wm"
      }
    },
    {
      "cell_type": "code",
      "source": [
        "# Declaring a KNN model\n",
        "KNN1 = KNeighborsClassifier(n_neighbors=5)\n",
        "\n",
        "# Creating lists to add the results of the predictions\n",
        "KNN1_Acc = []\n",
        "KNN1_Rec = []\n",
        "KNN1_Prc = []\n",
        "KNN1_F1 = []\n",
        "\n",
        "for i in range(30):\n",
        "  KNN1.fit(x1_train,y1_train)\n",
        "  y1knn_pred = KNN1.predict(x1_test)\n",
        "\n",
        "  Acc = accuracy_score(y1_test , y1knn_pred)\n",
        "  KNN1_Acc.append(Acc)\n",
        "\n",
        "  Rec = recall_score(y1_test , y1knn_pred)\n",
        "  KNN1_Rec.append(Rec)\n",
        "\n",
        "  Prc = precision_score(y1_test , y1knn_pred)\n",
        "  KNN1_Prc.append(Prc)\n",
        "\n",
        "  F1 = f1_score(y1_test , y1knn_pred)\n",
        "  KNN1_F1.append(F1)\n",
        "A1 = sum(KNN1_Acc)/len(KNN1_Acc)\n",
        "P1 = sum(KNN1_Prc)/len(KNN1_Prc)\n",
        "R1 = sum(KNN1_Rec)/len(KNN1_Rec)\n",
        "F1 = sum(KNN1_F1)/len(KNN1_F1)\n",
        "print(\"Accuracy:  \" , A1)\n",
        "print(\"Precision: \" , P1)\n",
        "print(\"Recall:    \" , R1)\n",
        "print(\"F1_score:  \" , F1)"
      ],
      "metadata": {
        "colab": {
          "base_uri": "https://localhost:8080/"
        },
        "id": "0uI2cwF715id",
        "outputId": "1c104981-b43e-486a-c708-f9fbfe6fc28c"
      },
      "execution_count": null,
      "outputs": [
        {
          "output_type": "stream",
          "name": "stdout",
          "text": [
            "Accuracy:   0.9025444071051363\n",
            "Precision:  0.9288389513108618\n",
            "Recall:     0.9435637285986048\n",
            "F1_score:   0.9361434413337523\n"
          ]
        }
      ]
    },
    {
      "cell_type": "markdown",
      "source": [
        "**DT**"
      ],
      "metadata": {
        "id": "fkDjzzA8ud2a"
      }
    },
    {
      "cell_type": "code",
      "source": [
        "# Declaring a DT model\n",
        "DT1 = DecisionTreeClassifier()\n",
        "\n",
        "# Creating lists to add the results of the predictions\n",
        "DT1_Acc = []\n",
        "DT1_Rec = []\n",
        "DT1_Prc = []\n",
        "DT1_F1 = []\n",
        "\n",
        "for i in range(30):\n",
        "  DT1.fit(x1_train,y1_train)\n",
        "  y1dt_pred = DT1.predict(x1_test)\n",
        "\n",
        "  Acc = accuracy_score(y1_test , y1dt_pred)\n",
        "  DT1_Acc.append(Acc)\n",
        "\n",
        "  Rec = recall_score(y1_test , y1dt_pred)\n",
        "  DT1_Rec.append(Rec)\n",
        "\n",
        "  Prc = precision_score(y1_test , y1dt_pred)\n",
        "  DT1_Prc.append(Prc)\n",
        "\n",
        "  F1 = f1_score(y1_test , y1dt_pred)\n",
        "  DT1_F1.append(F1)\n",
        "\n",
        "A2 = sum(DT1_Acc)/len(DT1_Acc)\n",
        "P2 = sum(DT1_Prc)/len(DT1_Prc) \n",
        "R2 = sum(DT1_Rec)/len(DT1_Rec) \n",
        "F2 = sum(DT1_F1)/len(DT1_F1) \n",
        "print(\"Accuracy:  \" , A2)\n",
        "print(\"Precision: \" , P2)\n",
        "print(\"Recall:    \" , R2)\n",
        "print(\"F1_score:  \" , F2)"
      ],
      "metadata": {
        "id": "dEsNuMv87XEy",
        "colab": {
          "base_uri": "https://localhost:8080/"
        },
        "outputId": "2ae362c9-0cc6-4ae5-d0ae-042211f74bd7"
      },
      "execution_count": null,
      "outputs": [
        {
          "output_type": "stream",
          "name": "stdout",
          "text": [
            "Accuracy:   0.9913906224995997\n",
            "Precision:  0.9948581165388293\n",
            "Recall:     0.993764531811456\n",
            "F1_score:   0.9943106901145078\n"
          ]
        }
      ]
    },
    {
      "cell_type": "markdown",
      "source": [
        "**NB**"
      ],
      "metadata": {
        "id": "v7RYoxibuhk1"
      }
    },
    {
      "cell_type": "code",
      "source": [
        "# Declaring a NB model\n",
        "NB1 = GaussianNB()\n",
        "\n",
        "# Creating lists to add the results of the predictions\n",
        "NB1_Acc = []\n",
        "NB1_Rec = []\n",
        "NB1_Prc = []\n",
        "NB1_F1 = []\n",
        "\n",
        "for i in range(30):\n",
        "  NB1.fit(x1_train,y1_train)\n",
        "  y1nb_pred = NB1.predict(x1_test)\n",
        "\n",
        "  Acc = accuracy_score(y1_test , y1nb_pred)\n",
        "  NB1_Acc.append(Acc)\n",
        "\n",
        "  Rec = recall_score(y1_test , y1nb_pred)\n",
        "  NB1_Rec.append(Rec)\n",
        "\n",
        "  Prc = precision_score(y1_test , y1nb_pred)\n",
        "  NB1_Prc.append(Prc)\n",
        "\n",
        "  F1 = f1_score(y1_test , y1nb_pred)\n",
        "  NB1_F1.append(F1)\n",
        "A3 = sum(NB1_Acc)/len(NB1_Acc) \n",
        "P3 = sum(NB1_Prc)/len(NB1_Prc) \n",
        "R3 = sum(NB1_Rec)/len(NB1_Rec) \n",
        "F3 = sum(NB1_F1)/len(NB1_F1)\n",
        "print(\"Accuracy:  \" , A3)\n",
        "print(\"Precision: \" , P3)\n",
        "print(\"Recall:    \" , R3)\n",
        "print(\"F1_score:  \" , F3)"
      ],
      "metadata": {
        "id": "Kub3KiOo_cwQ",
        "colab": {
          "base_uri": "https://localhost:8080/"
        },
        "outputId": "33f01d0b-8de8-46c4-c2d3-4bcd43e03ff6"
      },
      "execution_count": null,
      "outputs": [
        {
          "output_type": "stream",
          "name": "stdout",
          "text": [
            "Accuracy:   0.9836773883821409\n",
            "Precision:  0.9929712460063901\n",
            "Recall:     0.9854153455928979\n",
            "F1_score:   0.9891788669637168\n"
          ]
        }
      ]
    },
    {
      "cell_type": "markdown",
      "source": [
        "# **6. Visulazation**"
      ],
      "metadata": {
        "id": "Aycy6q_Juc44"
      }
    },
    {
      "cell_type": "markdown",
      "source": [
        "**Bar Chart**"
      ],
      "metadata": {
        "id": "HRlaO1Fvujg4"
      }
    },
    {
      "cell_type": "code",
      "source": [
        "import numpy as np\n",
        "import matplotlib.pyplot as plt\n",
        "\n",
        "x = ['KNN','DT','NB']\n",
        "yA = [A1 , A2 , A3]\n",
        "yP = [P1 , P2 , P3]\n",
        "yR = [R1 , R2 , R3]\n",
        "xF = [F1 , F2 , F3]\n",
        "X_axis = np.arange(len(x))\n",
        "  \n",
        "plt.bar(X_axis + 0.15 , yA , color = 'purple' , width = 0.20 , edgecolor = 'black' , label = 'Accuracy')\n",
        "plt.bar(X_axis + 0.35 , yP , color = 'orange' , width = 0.20 , edgecolor = 'black' , label = 'Precision')\n",
        "plt.bar(X_axis + 0.55 , yR , color = 'green'  , width = 0.20 , edgecolor = 'black' , label = 'Recall')\n",
        "plt.bar(X_axis + 0.75 , xF , color = 'blue'   , width = 0.20 , edgecolor = 'black' , label = 'F1-Score')\n",
        "plt.xticks(X_axis + 0.30, x)\n",
        "plt.legend(bbox_to_anchor=(1 , 1))\n",
        "\n",
        "plt.xlabel(\"Machine Learning Model\")\n",
        "plt.ylabel(\"Percentage\")\n",
        "plt.title(\"Results\")\n",
        "plt.show()"
      ],
      "metadata": {
        "id": "X3lzC0YiirrK",
        "colab": {
          "base_uri": "https://localhost:8080/",
          "height": 295
        },
        "outputId": "2c8c20b6-1740-41c0-e4a9-de257ca0133b"
      },
      "execution_count": null,
      "outputs": [
        {
          "output_type": "display_data",
          "data": {
            "text/plain": [
              "<Figure size 432x288 with 1 Axes>"
            ],
            "image/png": "[encoded data removed]"
          },
          "metadata": {
            "needs_background": "light"
          }
        }
      ]
    },
    {
      "cell_type": "code",
      "source": [
        "Measurement = ['Accuracy' , 'Precision' , 'Recall' , 'F-Score']\n",
        "KNN = [A1 , P1 , R1 , F1]\n",
        "DT  = [A2 , P2 , R2 , F2]\n",
        "NB  = [A3 , P3 , R3 , F3]\n",
        "\n",
        "angles = np.linspace(0 , 2 * np.pi , len(Measurement) , endpoint = False)\n",
        "angles = np.concatenate((angles,[angles[0]]))\n",
        "\n",
        "Measurement.append(Measurement[0])\n",
        "KNN.append(KNN[0])\n",
        "DT.append(DT[0])\n",
        "NB.append(NB[0])\n",
        "\n",
        "fig = plt.figure(figsize = (7 , 7))\n",
        "ax=fig.add_subplot(111 , polar = True)\n",
        "\n",
        "# NB Visualization\n",
        "ax.plot(angles , NB , 'o--' , color = 'brown', linewidth = 1 , label = 'NB')\n",
        "\n",
        "# KNN Visualization \n",
        "ax.plot(angles , KNN , 'o-' , color = 'g', linewidth = 1 , label = 'KNN')\n",
        "\n",
        "# DT Visualization\n",
        "ax.plot(angles , DT ,  'o-' , color = 'orange' , linewidth = 1 , label = 'DT')\n",
        "\n",
        "ax.set_thetagrids(angles * 180 / np.pi, Measurement)\n",
        "plt.grid(True)\n",
        "plt.tight_layout()\n",
        "plt.legend()\n",
        "plt.show()"
      ],
      "metadata": {
        "id": "pGZ5RTn2u-G9",
        "colab": {
          "base_uri": "https://localhost:8080/",
          "height": 496
        },
        "outputId": "59ccaea9-0820-4feb-ca7b-c123539a24dc"
      },
      "execution_count": null,
      "outputs": [
        {
          "output_type": "display_data",
          "data": {
            "text/plain": [
              "<Figure size 504x504 with 1 Axes>"
            ],
            "image/png": "[encoded data removed]"
          },
          "metadata": {
            "needs_background": "light"
          }
        }
      ]
    },
    {
      "cell_type": "code",
      "source": [
        "AccK = np.array(KNN1_Acc)\n",
        "AccD = np.array(DT1_Acc)\n",
        "AccN = np.array(NB1_Acc)\n",
        "\n",
        "dict = {'KNN' : AccK , 'DT' : AccD , 'NB' : AccN}\n",
        "fig, ax = plt.subplots()\n",
        "\n",
        "fig.suptitle('Models Accuracy')\n",
        "ax.boxplot(dict.values())\n",
        "ax.set_xticklabels(dict.keys())\n",
        "plt.show()"
      ],
      "metadata": {
        "id": "2JGUopi0fxVF",
        "colab": {
          "base_uri": "https://localhost:8080/",
          "height": 294
        },
        "outputId": "f0fcba57-0d09-4c46-a957-92ddd8687194"
      },
      "execution_count": null,
      "outputs": [
        {
          "output_type": "display_data",
          "data": {
            "text/plain": [
              "<Figure size 432x288 with 1 Axes>"
            ],
            "image/png": "[encoded data removed]"
          },
          "metadata": {
            "needs_background": "light"
          }
        }
      ]
    },
    {
      "cell_type": "code",
      "source": [
        "PrcK = np.array(KNN1_Prc)\n",
        "PrcD = np.array(DT1_Prc)\n",
        "PrcN = np.array(NB1_Prc)\n",
        "\n",
        "dict = {'KNN' : PrcK , 'DT' : PrcD , 'NB' : PrcN}\n",
        "fig, ax = plt.subplots()\n",
        "\n",
        "fig.suptitle('Models Accuracy')\n",
        "ax.boxplot(dict.values())\n",
        "ax.set_xticklabels(dict.keys())\n",
        "plt.show()"
      ],
      "metadata": {
        "id": "BFsleGfA6LyK",
        "colab": {
          "base_uri": "https://localhost:8080/",
          "height": 294
        },
        "outputId": "61882531-b3b3-46c3-cc2d-5a6652bc79e8"
      },
      "execution_count": null,
      "outputs": [
        {
          "output_type": "display_data",
          "data": {
            "text/plain": [
              "<Figure size 432x288 with 1 Axes>"
            ],
            "image/png": "[encoded data removed]"
          },
          "metadata": {
            "needs_background": "light"
          }
        }
      ]
    },
    {
      "cell_type": "code",
      "source": [
        "RecK = np.array(KNN1_Rec)\n",
        "RecD = np.array(DT1_Rec)\n",
        "RecN = np.array(NB1_Rec)\n",
        "\n",
        "dict = {'KNN' : RecK , 'DT' : RecD , 'NB' : RecN}\n",
        "fig, ax = plt.subplots()\n",
        "\n",
        "fig.suptitle('Models Accuracy')\n",
        "ax.boxplot(dict.values())\n",
        "ax.set_xticklabels(dict.keys())\n",
        "plt.show()"
      ],
      "metadata": {
        "colab": {
          "base_uri": "https://localhost:8080/",
          "height": 294
        },
        "id": "oIfe5bFkC0hg",
        "outputId": "873863c0-79cf-44b2-f9b0-d45ac98f1a40"
      },
      "execution_count": null,
      "outputs": [
        {
          "output_type": "display_data",
          "data": {
            "text/plain": [
              "<Figure size 432x288 with 1 Axes>"
            ],
            "image/png": "[encoded data removed]"
          },
          "metadata": {
            "needs_background": "light"
          }
        }
      ]
    },
    {
      "cell_type": "code",
      "source": [
        "FK = np.array(KNN1_F1)\n",
        "FD = np.array(DT1_F1)\n",
        "FN = np.array(NB1_F1)\n",
        "\n",
        "dict = {'KNN' : FK , 'DT' : FD , 'NB' : FN}\n",
        "fig, ax = plt.subplots()\n",
        "\n",
        "fig.suptitle('Models Accuracy')\n",
        "ax.boxplot(dict.values())\n",
        "ax.set_xticklabels(dict.keys())\n",
        "plt.show()"
      ],
      "metadata": {
        "colab": {
          "base_uri": "https://localhost:8080/",
          "height": 294
        },
        "id": "jYsM8LRMGX0M",
        "outputId": "b239c2e9-4f24-4727-a9ac-e005af28a3b9"
      },
      "execution_count": null,
      "outputs": [
        {
          "output_type": "display_data",
          "data": {
            "text/plain": [
              "<Figure size 432x288 with 1 Axes>"
            ],
            "image/png": "[encoded data removed]"
          },
          "metadata": {
            "needs_background": "light"
          }
        }
      ]
    }
  ]
}